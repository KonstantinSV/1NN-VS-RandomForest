{
  "nbformat": 4,
  "nbformat_minor": 0,
  "metadata": {
    "colab": {
      "name": "Decision 1NN VS RandomForest",
      "provenance": [],
      "collapsed_sections": [],
      "authorship_tag": "ABX9TyM1mOsngg3EADYtEYBw35rm",
      "include_colab_link": true
    },
    "kernelspec": {
      "display_name": "Python 3",
      "name": "python3"
    }
  },
  "cells": [
    {
      "cell_type": "markdown",
      "metadata": {
        "id": "view-in-github",
        "colab_type": "text"
      },
      "source": [
        "<a href=\"https://colab.research.google.com/github/KonstantinSV/1NN-VS-RandomForest/blob/main/Decision_1NN_VS_RandomForest.ipynb\" target=\"_parent\"><img src=\"https://colab.research.google.com/assets/colab-badge.svg\" alt=\"Open In Colab\"/></a>"
      ]
    },
    {
      "cell_type": "code",
      "metadata": {
        "id": "oOwNQZ2NYjIg"
      },
      "source": [
        "from sklearn import model_selection, datasets, metrics, ensemble\n",
        "import numpy as np"
      ],
      "execution_count": null,
      "outputs": []
    },
    {
      "cell_type": "code",
      "metadata": {
        "id": "pJnamWVEn1mZ",
        "colab": {
          "base_uri": "https://localhost:8080/"
        },
        "outputId": "701befb3-e473-4bb4-9b72-731bfa0ddd38"
      },
      "source": [
        "digits = datasets.load_digits()\n",
        "print(f\"digits: {digits.keys()}\")"
      ],
      "execution_count": null,
      "outputs": [
        {
          "output_type": "stream",
          "text": [
            "digits: dict_keys(['data', 'target', 'target_names', 'images', 'DESCR'])\n"
          ],
          "name": "stdout"
        }
      ]
    },
    {
      "cell_type": "code",
      "metadata": {
        "id": "z7saYRxqoo6f"
      },
      "source": [
        "X = digits.data\n",
        "y = digits.target"
      ],
      "execution_count": null,
      "outputs": []
    },
    {
      "cell_type": "code",
      "metadata": {
        "id": "ryhGqn3U_ouC"
      },
      "source": [
        "X_train, X_test, y_train, y_test = model_selection.train_test_split(X, y, shuffle=False, test_size=0.25) # при выборе параметров test_size=0.25 или train_size=0.75 получабтся разные разбиения"
      ],
      "execution_count": null,
      "outputs": []
    },
    {
      "cell_type": "markdown",
      "metadata": {
        "id": "W-soCJ5tER-i"
      },
      "source": [
        "Метод 1. Построение 1NN"
      ]
    },
    {
      "cell_type": "code",
      "metadata": {
        "id": "d6C14BJg-eY9"
      },
      "source": [
        "# фун-ия считает эвклидову метрику, но без извлечения корня. Корень влияет только на монотонность, но не на свойства признаков\n",
        "def dist(v1, v2):\n",
        "    return sum((v1 - v2)**2)"
      ],
      "execution_count": null,
      "outputs": []
    },
    {
      "cell_type": "code",
      "metadata": {
        "id": "nlY7V3KU-hKp"
      },
      "source": [
        "# фун-ия возвращает кол-во предсказаний на тестовой выборке Х_test несовпавших с истинными метками y_test \n",
        "def targets(X_train=X_train, X_test=X_test, y_train=y_train, y_test=y_test): # при последующем вызове ф-ию можно вызывать без параметров или с с меньшим числом параметров (меньше 4) так как они уже заданы X_train=X_train, X_test=X_test, y_train=y_train, y_test=y_test\n",
        "    target_X_test = [] # список предсказаний на тестовой выборке Х_test\n",
        "    for x_te in X_test: # x_te принимает значение первого объекта из тестовой выборки X_test (вектор со всеми признаками)\n",
        "        arr=[] # Для каждого объекта из X_test список arr обнуляется\n",
        "        \"\"\"В ф-ию dist подается объект из тестовой выборки x_te и объект из обучающей выборки x_tr.\n",
        "        Ф-ия dist вычитает один вектор из другого, возводит в кадрат и складывает, так определяется расстояние между объектами. \n",
        "        Чем меньше полученное скалярное значение, тем ближе объекты друг к другу.\n",
        "        Так же к полученному скалярному произведению добавляется метка класса из обучающей выборки y_tr.\n",
        "        На выходе из цикла поручаем список списков arr.\n",
        "        Первый элемент в списках - скалярное расстоянияние от одного объекта из X_test до всех объектов X_train.\n",
        "        Второй элемент - метка класса из из обучающей выборки y_train \"\"\"\n",
        "        arr = [[dist(x_te, x_tr), y_tr] for x_tr, y_tr in zip(X_train, y_train)] \n",
        "        arr.sort() # Сортируем по первому элементу списка списков. Ведь чем меньше расстояние между объектами, тем больше вероятность принадлежности его к указанному классу (то есть ко второй метке)\n",
        "        target_X_test.append(arr[0][1]) # Добавляем в target_X_test только второй элемент порвого объекта, то усть метку класса y_train  с самым меньшим расстоянием\n",
        "    return sum(y_test != target_X_test) # сравниваем список y_test со списком target_X_test (в котором метки классов y_train) и считаем сумму не совпавших элементов (17 элементов)"
      ],
      "execution_count": null,
      "outputs": []
    },
    {
      "cell_type": "code",
      "metadata": {
        "id": "SEu-HvhfEKrc",
        "colab": {
          "base_uri": "https://localhost:8080/"
        },
        "outputId": "59f8b93b-8e17-4e29-9fed-86f3d8e417da"
      },
      "source": [
        "# Ф-ия считает долю неправильных ответов.\n",
        "# targets фозвращает кол-во не совпавших предсказаний (17 элементов) которое мы делим на кол-во объектов в тестовой выборке\n",
        "targets()/X_test.shape[0]"
      ],
      "execution_count": null,
      "outputs": [
        {
          "output_type": "execute_result",
          "data": {
            "text/plain": [
              "0.03777777777777778"
            ]
          },
          "metadata": {
            "tags": []
          },
          "execution_count": 7
        }
      ]
    },
    {
      "cell_type": "markdown",
      "metadata": {
        "id": "ggEe6yzfELKn"
      },
      "source": [
        "Метод 2. Построение 1NN"
      ]
    },
    {
      "cell_type": "code",
      "metadata": {
        "id": "Z4XWtNdWD20x"
      },
      "source": [
        "# фун-ия считает эвклидову метрику. Возвращает скалярное значение? расстояние до точки из обучающей выборки/\n",
        "def euclidian_metric(x, y):\n",
        "    return np.sqrt( np.sum((x - y)**2) )"
      ],
      "execution_count": null,
      "outputs": []
    },
    {
      "cell_type": "code",
      "metadata": {
        "id": "9toHx1GUD0hg"
      },
      "source": [
        "y_pred_knn = [] # список предсказаний на тестовой выборке Х_test \n",
        "for test_value in X_test:\n",
        "    ind_min_metric = 0 # ind_min_metric обнуляется при каждом цикле\n",
        "    min_metric = euclidian_metric(test_value, X_train[0]) # вычисляется euclidian_metric только для первого объекта X_train[0], что бы далее сравнивать метриками остальных объектов X_train\n",
        "    \n",
        "    for index, train_value in enumerate(X_train): # enumerate возвращает порядковые номера объектов (index) и сами объекты (train_value)\n",
        "        \"\"\"В ф-ию euclidian_metric подается объект из тестовой выборки test_value и объект из обучающей выборки train_value.\n",
        "        Здесь еще раз вычисляется метрика для X_train[0]\n",
        "        Ф-ия euclidian_metric определяется расстояние между объектами. \"\"\"\n",
        "        metric = euclidian_metric(test_value, train_value)\n",
        "        if metric < min_metric: # Определяется самая маленькая метрика между одним объектом из X_test и всеми объектами из X_train\n",
        "            min_metric = metric \n",
        "            ind_min_metric = index # в переменную ind_min_metric сохраняется порядковый номер минимальной метрики\n",
        "            \n",
        "    y_pred_knn.append(y_train[ind_min_metric]) # добавляем в y_pred_knn метку класса из обучающей выборки y_train с индексом (порядковым номером) ind_min_metric"
      ],
      "execution_count": null,
      "outputs": []
    },
    {
      "cell_type": "code",
      "metadata": {
        "id": "6FHtl8vaDvyr",
        "colab": {
          "base_uri": "https://localhost:8080/"
        },
        "outputId": "1144af2b-316b-4dd3-96f4-8a2e88c9f473"
      },
      "source": [
        "# Ф-ия accuracy_score считает долю Правильных ответов. Чтобы посчитать долю Неправильных нужно от 1 отнять accuracy_score\n",
        "knn_err_rate = 1 - metrics.accuracy_score(y_test, y_pred_knn)\n",
        "knn_err_rate"
      ],
      "execution_count": null,
      "outputs": [
        {
          "output_type": "execute_result",
          "data": {
            "text/plain": [
              "0.0377777777777778"
            ]
          },
          "metadata": {
            "tags": []
          },
          "execution_count": 10
        }
      ]
    },
    {
      "cell_type": "markdown",
      "metadata": {
        "id": "5IQ1_aZerz3H"
      },
      "source": [
        "Построение RandomForest"
      ]
    },
    {
      "cell_type": "code",
      "metadata": {
        "id": "Trb5hJNbsrPf"
      },
      "source": [
        "Random_Forest = ensemble.RandomForestClassifier(n_estimators=1000) # cоздаем лес c 1000 деревьями"
      ],
      "execution_count": null,
      "outputs": []
    },
    {
      "cell_type": "code",
      "metadata": {
        "id": "uYvSWB2ZtTgh",
        "colab": {
          "base_uri": "https://localhost:8080/"
        },
        "outputId": "6ccd2efb-2d10-4d07-ff9a-9db3c81ac5c0"
      },
      "source": [
        "Random_Forest.fit(X_train, y_train)"
      ],
      "execution_count": null,
      "outputs": [
        {
          "output_type": "execute_result",
          "data": {
            "text/plain": [
              "RandomForestClassifier(bootstrap=True, ccp_alpha=0.0, class_weight=None,\n",
              "                       criterion='gini', max_depth=None, max_features='auto',\n",
              "                       max_leaf_nodes=None, max_samples=None,\n",
              "                       min_impurity_decrease=0.0, min_impurity_split=None,\n",
              "                       min_samples_leaf=1, min_samples_split=2,\n",
              "                       min_weight_fraction_leaf=0.0, n_estimators=1000,\n",
              "                       n_jobs=None, oob_score=False, random_state=None,\n",
              "                       verbose=0, warm_start=False)"
            ]
          },
          "metadata": {
            "tags": []
          },
          "execution_count": 12
        }
      ]
    },
    {
      "cell_type": "code",
      "metadata": {
        "id": "W9Ex9c0TtaeE",
        "colab": {
          "base_uri": "https://localhost:8080/"
        },
        "outputId": "2f27566b-c181-48da-da22-69faec21acf4"
      },
      "source": [
        "# Ф-ия accuracy_score считает долю Правильных ответов. Чтобы посчитать долю Неправильных нужно от 1 отнять accuracy_score\n",
        "1 - metrics.accuracy_score(y_test, Random_Forest.predict(X_test)) # predict - предсказания леса для тестовой выборки."
      ],
      "execution_count": null,
      "outputs": [
        {
          "output_type": "execute_result",
          "data": {
            "text/plain": [
              "0.06444444444444442"
            ]
          },
          "metadata": {
            "tags": []
          },
          "execution_count": 13
        }
      ]
    },
    {
      "cell_type": "markdown",
      "metadata": {
        "id": "QTuqI796ueyE"
      },
      "source": [
        "Результат:\n",
        "Лес работат хуже самого простого kNN. Такое различие — особенность данного датасета, но нужно всегда помнить, что такая ситуация тоже может иметь место, и не забывать про простые методы"
      ]
    }
  ]
}